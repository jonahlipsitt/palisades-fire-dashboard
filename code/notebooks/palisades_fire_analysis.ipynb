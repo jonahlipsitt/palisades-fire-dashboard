{
  "cells": [
    {
      "cell_type": "code",
      "execution_count": null,
      "metadata": {
        "vscode": {
          "languageId": "plaintext"
        }
      },
      "outputs": [],
      "source": [
        "# Palisades Fire Analysis - January 2025\n",
        "\n",
        "This notebook provides a comprehensive analysis of the Palisades Fire using Google Earth Engine.\n",
        "\n",
        "## Fire Details\n",
        "- **Location**: Pacific Palisades, Los Angeles (34.0725°N, 118.5425°W)\n",
        "- **Start Date**: January 7, 2025\n",
        "- **Size**: ~23,713 acres (~96 km²)\n",
        "- **Impact**: Significant damage to residential areas and natural habitat\n"
      ]
    }
  ],
  "metadata": {
    "language_info": {
      "name": "python"
    }
  },
  "nbformat": 4,
  "nbformat_minor": 2
}
